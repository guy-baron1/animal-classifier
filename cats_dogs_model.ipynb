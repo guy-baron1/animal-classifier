{
 "cells": [
  {
   "cell_type": "code",
   "execution_count": 1,
   "id": "7dcc3a7d",
   "metadata": {},
   "outputs": [],
   "source": [
    "import os\n",
    "import time\n",
    "import random\n",
    "\n",
    "import numpy as np\n",
    "import matplotlib.pyplot as plt\n",
    "import cv2\n",
    "\n",
    "import tensorflow as tf\n",
    "from tensorflow.keras.models import Sequential\n",
    "from tensorflow.keras.layers import Dense, Dropout, Activation, Flatten, Conv2D, MaxPooling2D\n",
    "from tensorflow.keras.callbacks import TensorBoard, EarlyStopping\n",
    "\n",
    "import pickle"
   ]
  },
  {
   "cell_type": "code",
   "execution_count": 2,
   "id": "b6ac5de0",
   "metadata": {},
   "outputs": [],
   "source": [
    "images_dir = './PetImages'\n",
    "categories = ['Dog', 'Cat']\n",
    "img_size = 70\n",
    "flag_to_channel_count = {\n",
    "    # grayscale pixel: 0-255\n",
    "    # rgb pixel: [0-255, 0-255, 0-255]\n",
    "    cv2.IMREAD_GRAYSCALE: 1,\n",
    "    cv2.IMREAD_COLOR: 3\n",
    "}"
   ]
  },
  {
   "cell_type": "markdown",
   "id": "cb995640",
   "metadata": {},
   "source": [
    "# Preprocessing"
   ]
  },
  {
   "cell_type": "code",
   "execution_count": 3,
   "id": "c78e00a8",
   "metadata": {},
   "outputs": [
    {
     "name": "stdout",
     "output_type": "stream",
     "text": [
      "successfully processed 24946 photos\n",
      "successfully processed 24946 photos\n"
     ]
    }
   ],
   "source": [
    "def create_training_data(flag):\n",
    "    training_data = []\n",
    "    channel_count = flag_to_channel_count[flag]\n",
    "    for category in categories:\n",
    "        path = os.path.join(images_dir, category)\n",
    "        class_num = categories.index(category) # dog == 0, cat == 1\n",
    "        for img in os.listdir(path):\n",
    "            try:\n",
    "                img_arr = cv2.imread(os.path.join(path, img), flag)\n",
    "                resized_img_arr = cv2.resize(img_arr, (img_size, img_size))\n",
    "                training_data.append([resized_img_arr, class_num])\n",
    "            except Exception as e:\n",
    "                pass\n",
    "            \n",
    "    random.shuffle(training_data)\n",
    "        \n",
    "    X = []\n",
    "    y = []\n",
    "\n",
    "    for features, label in training_data:\n",
    "        X.append(features)\n",
    "        y.append(label)\n",
    "    \n",
    "    # for some reason regular lists dont work so we convert to np arrays\n",
    "    X = np.array(X).reshape(-1, img_size, img_size, channel_count)\n",
    "    y = np.array(y)\n",
    "    \n",
    "    print(f\"successfully processed {len(training_data)} photos\")\n",
    "    \n",
    "    return (X, y)\n",
    "\n",
    "X_gray, y_gray = create_training_data(cv2.IMREAD_GRAYSCALE)\n",
    "X_rgb, y_rgb = create_training_data(cv2.IMREAD_COLOR)"
   ]
  },
  {
   "cell_type": "code",
   "execution_count": 4,
   "id": "c8e3bccb",
   "metadata": {},
   "outputs": [],
   "source": [
    "# pickle dump to save for later use\n",
    "pickle_out = open(\"X_gray.pickle\", \"wb\")\n",
    "pickle.dump(X_gray, pickle_out)\n",
    "pickle_out.close()\n",
    "\n",
    "pickle_out = open(\"y_gray.pickle\", \"wb\")\n",
    "pickle.dump(y_gray, pickle_out)\n",
    "pickle_out.close()\n",
    "\n",
    "pickle_out = open(\"X_rgb.pickle\", \"wb\")\n",
    "pickle.dump(X_rgb, pickle_out)\n",
    "pickle_out.close()\n",
    "\n",
    "pickle_out = open(\"y_rgb.pickle\", \"wb\")\n",
    "pickle.dump(y_rgb, pickle_out)\n",
    "pickle_out.close()"
   ]
  },
  {
   "cell_type": "code",
   "execution_count": null,
   "id": "a61deac9",
   "metadata": {},
   "outputs": [],
   "source": [
    "if (len(tf.config.list_physical_devices('GPU')) == 0):\n",
    "    print('gpu not detected, training will be slow')"
   ]
  },
  {
   "cell_type": "markdown",
   "id": "13ba4e60",
   "metadata": {},
   "source": [
    "# Model optimization\n",
    "## Test different dense layers, layer sizes, conv layers (grayscale)"
   ]
  },
  {
   "cell_type": "code",
   "execution_count": null,
   "id": "5f3b2052",
   "metadata": {},
   "outputs": [],
   "source": [
    "X_gray = pickle.load(open(\"X_gray.pickle\", \"rb\"))\n",
    "y_gray = pickle.load(open(\"y_gray.pickle\", \"rb\"))\n",
    "X_gray = X_gray / 255.0\n",
    "\n",
    "dense_layer_options = [0, 1, 2]\n",
    "layer_size_options = [32, 64, 128]\n",
    "conv_layer_options = [1, 2, 3]\n",
    "\n",
    "\n",
    "for dense_layer in dense_layer_options:\n",
    "    for layer_size in layer_size_options:\n",
    "        for conv_layer in conv_layer_options:\n",
    "            model_name = f\"{conv_layer}-conv-{layer_size}-nodes-{dense_layer}-dense-{int(time.time())}\"\n",
    "            tensorboard = TensorBoard(log_dir=\"logs/{}\".format(model_name))\n",
    "\n",
    "            optimized_model = Sequential()\n",
    "            \n",
    "            optimized_model.add(Conv2D(layer_size, (3,3), input_shape = X_gray.shape[1:]))\n",
    "            optimized_model.add(Activation(\"relu\"))\n",
    "            optimized_model.add(MaxPooling2D(pool_size=(2,2)))\n",
    "            \n",
    "            for l in range(conv_layer-1):\n",
    "                optimized_model.add(Conv2D(layer_size, (3,3)))\n",
    "                optimized_model.add(Activation(\"relu\"))\n",
    "                optimized_model.add(MaxPooling2D(pool_size=(2,2)))\n",
    "\n",
    "            optimized_model.add(Flatten())\n",
    "            \n",
    "            for l in range(dense_layer):\n",
    "                optimized_model.add(Dense(layer_size))\n",
    "                optimized_model.add(Activation(\"relu\"))\n",
    "\n",
    "            optimized_model.add(Dense(1))\n",
    "            optimized_model.add(Activation(\"sigmoid\"))\n",
    "\n",
    "            optimized_model.compile(loss=\"binary_crossentropy\", optimizer=\"adam\", metrics=['accuracy'])\n",
    "            optimized_model.fit(X_gray, y_gray, batch_size=32, epochs=10, validation_split=0.1, callbacks=[tensorboard])"
   ]
  },
  {
   "cell_type": "markdown",
   "id": "542c6044",
   "metadata": {},
   "source": [
    "## Result: 3 conv 0 dense 128 layer size had least eval loss"
   ]
  },
  {
   "cell_type": "markdown",
   "id": "756ed1a7",
   "metadata": {},
   "source": [
    "## Try higher layer size options"
   ]
  },
  {
   "cell_type": "code",
   "execution_count": null,
   "id": "1e980500",
   "metadata": {},
   "outputs": [],
   "source": [
    "X_gray = pickle.load(open(\"X_gray.pickle\", \"rb\"))\n",
    "y_gray = pickle.load(open(\"y_gray.pickle\", \"rb\"))\n",
    "\n",
    "X_gray = X_gray / 255.0\n",
    "layer_size_options = [256, 512, 1024]\n",
    "\n",
    "\n",
    "for layer_size in layer_size_options:\n",
    "    model_name = f\"3-conv-{layer_size}-nodes-0-dense-{int(time.time())}\"\n",
    "    tensorboard = TensorBoard(log_dir=\"logs/{}\".format(model_name))\n",
    "\n",
    "    optimized_model = Sequential()\n",
    "\n",
    "    optimized_model.add(Conv2D(layer_size, (3,3), input_shape = X_gray.shape[1:]))\n",
    "    optimized_model.add(Activation(\"relu\"))\n",
    "    optimized_model.add(MaxPooling2D(pool_size=(2,2)))\n",
    "\n",
    "    optimized_model.add(Conv2D(layer_size, (3,3)))\n",
    "    optimized_model.add(Activation(\"relu\"))\n",
    "    optimized_model.add(MaxPooling2D(pool_size=(2,2)))\n",
    "\n",
    "    optimized_model.add(Conv2D(layer_size, (3,3)))\n",
    "    optimized_model.add(Activation(\"relu\"))\n",
    "    optimized_model.add(MaxPooling2D(pool_size=(2,2)))\n",
    "\n",
    "    optimized_model.add(Flatten())\n",
    "\n",
    "    optimized_model.add(Dense(1))\n",
    "    optimized_model.add(Activation(\"sigmoid\"))\n",
    "\n",
    "    optimized_model.compile(loss=\"binary_crossentropy\", optimizer=\"adam\", metrics=['accuracy'])\n",
    "    optimized_model.fit(X_gray, y_gray, batch_size=32, epochs=10, validation_split=0.1, callbacks=[tensorboard])"
   ]
  },
  {
   "cell_type": "markdown",
   "id": "34b158d9",
   "metadata": {},
   "source": [
    "## Final results: 3 conv layers 64 layer size 0 dense"
   ]
  },
  {
   "cell_type": "markdown",
   "id": "98c7fe94",
   "metadata": {},
   "source": [
    "# Final model structure"
   ]
  },
  {
   "cell_type": "code",
   "execution_count": 5,
   "id": "c9f2671c",
   "metadata": {},
   "outputs": [],
   "source": [
    "def get_final_model(X):\n",
    "    \n",
    "    model = Sequential()\n",
    "\n",
    "    model.add(Conv2D(64, (3,3), input_shape = X.shape[1:]))\n",
    "    model.add(Activation(\"relu\"))\n",
    "    model.add(MaxPooling2D(pool_size=(2,2)))\n",
    "\n",
    "    model.add(Conv2D(64, (3,3)))\n",
    "    model.add(Activation(\"relu\"))\n",
    "    model.add(MaxPooling2D(pool_size=(2,2)))\n",
    "\n",
    "    model.add(Conv2D(64, (3,3)))\n",
    "    model.add(Activation(\"relu\"))\n",
    "    model.add(MaxPooling2D(pool_size=(2,2)))\n",
    "\n",
    "    model.add(Flatten())\n",
    "\n",
    "    model.add(Dense(1))\n",
    "    model.add(Activation(\"sigmoid\"))\n",
    "\n",
    "    model.compile(loss=\"binary_crossentropy\", optimizer=\"adam\", metrics=['accuracy'])\n",
    "    return model"
   ]
  },
  {
   "cell_type": "markdown",
   "id": "d73ea369",
   "metadata": {},
   "source": [
    "# Trying to see if rgb works better than grayscale"
   ]
  },
  {
   "cell_type": "code",
   "execution_count": null,
   "id": "4990ce18",
   "metadata": {},
   "outputs": [],
   "source": [
    "X_gray = pickle.load(open(\"X_gray.pickle\", \"rb\"))\n",
    "y_gray = pickle.load(open(\"y_gray.pickle\", \"rb\"))\n",
    "\n",
    "X_gray = X_gray / 255.0\n",
    "\n",
    "tensorboard = TensorBoard(log_dir=\"logs/{3-conv-64-nodes-0-dense-gray}\")\n",
    "final_model_gray = get_final_model(X_gray)\n",
    "final_model_gray.fit(X_gray, y_gray, batch_size=32, epochs=10, validation_split=0.1, callbacks=[tensorboard])\n",
    "\n",
    "model.save('./classifier-api/64x3-CNN.model')"
   ]
  },
  {
   "cell_type": "code",
   "execution_count": null,
   "id": "3c98616d",
   "metadata": {},
   "outputs": [],
   "source": [
    "X_rgb = pickle.load(open(\"X_rgb.pickle\", \"rb\"))\n",
    "y_rgb = pickle.load(open(\"y_rgb.pickle\", \"rb\"))\n",
    "\n",
    "X_rgb = X_rgb / 255.0\n",
    "\n",
    "tensorboard = TensorBoard(log_dir=\"logs/{3-conv-64-nodes-0-dense-rgb}\")\n",
    "final_model_rgb = get_final_model(X_rgb)\n",
    "final_model_rgb.fit(X_rgb, y_rgb, batch_size=32, epochs=10, validation_split=0.1, callbacks=[tensorboard])\n",
    "\n",
    "model.save('./classifier-api/64x3-CNN-rgb.model')"
   ]
  },
  {
   "cell_type": "markdown",
   "id": "f9638639",
   "metadata": {},
   "source": [
    "# Experimenting with the effects of normalized image size"
   ]
  },
  {
   "cell_type": "code",
   "execution_count": null,
   "id": "8c7de65c",
   "metadata": {},
   "outputs": [],
   "source": [
    "img_size = 120\n",
    "X_gray_high_res, y_gray_high_res = create_training_data(cv2.IMREAD_GRAYSCALE)\n",
    "X_gray_high_res = X_gray_high_res / 255.0\n",
    "\n",
    "tensorboard = TensorBoard(log_dir=\"logs/{3-conv-64-nodes-0-dense-grey-high-res}\")\n",
    "earlystopping = EarlyStopping(monitor =\"val_loss\", \n",
    "                              mode =\"min\",\n",
    "                              patience = 5, \n",
    "                              restore_best_weights = True)\n",
    "final_model_gray_high_res = get_final_model(X_gray_high_res)\n",
    "final_model_gray_high_res.fit(\n",
    "    X_gray_high_res,\n",
    "    y_gray_high_res,\n",
    "    batch_size=32,\n",
    "    epochs=6,\n",
    "    validation_split=0.1,\n",
    "    callbacks=[tensorboard, earlystopping])\n",
    "\n",
    "model.save('./classifier-api/64x3-CNN-grey-high-res.model')\n"
   ]
  },
  {
   "cell_type": "code",
   "execution_count": null,
   "id": "fa1906ba",
   "metadata": {},
   "outputs": [],
   "source": [
    "# literally not enough ram to run this\n",
    "\n",
    "# img_size = 120\n",
    "# X_rgb_high_res, y_rgb_high_res = create_training_data(cv2.IMREAD_COLOR)\n",
    "# X_rgb_high_res = X_rgb_high_res / 255.0\n",
    "\n",
    "# tensorboard = TensorBoard(log_dir=\"logs/{3-conv-64-nodes-0-dense-rgb-high-res}\")\n",
    "# earlystopping = EarlyStopping(monitor =\"val_loss\", \n",
    "#                               mode =\"min\",\n",
    "#                               patience = 5, \n",
    "#                               restore_best_weights = True)\n",
    "# final_model_rgb_high_res = get_final_model(X_rgb_high_res)\n",
    "# final_model_rgb_high_res.fit(\n",
    "#     X_rgb_high_res,\n",
    "#     X_rgb_high_res,\n",
    "#     batch_size=32,\n",
    "#     epochs=15,\n",
    "#     validation_split=0.1,\n",
    "#     callbacks=[tensorboard, earlystopping])\n",
    "\n",
    "# model.save('./classifier-api/64x3-CNN-rgb-high-res.model')"
   ]
  }
 ],
 "metadata": {
  "kernelspec": {
   "display_name": "Python 3",
   "language": "python",
   "name": "python3"
  },
  "language_info": {
   "codemirror_mode": {
    "name": "ipython",
    "version": 3
   },
   "file_extension": ".py",
   "mimetype": "text/x-python",
   "name": "python",
   "nbconvert_exporter": "python",
   "pygments_lexer": "ipython3",
   "version": "3.9.5"
  }
 },
 "nbformat": 4,
 "nbformat_minor": 5
}
